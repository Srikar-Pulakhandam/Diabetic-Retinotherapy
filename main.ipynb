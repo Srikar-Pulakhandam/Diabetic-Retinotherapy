{
 "cells": [
  {
   "cell_type": "code",
   "execution_count": 7,
   "metadata": {
    "ExecuteTime": {
     "end_time": "2023-08-19T16:51:23.049628Z",
     "start_time": "2023-08-19T16:51:23.044723Z"
    }
   },
   "outputs": [
    {
     "name": "stdout",
     "output_type": "stream",
     "text": [
      "env: SM_FRAMEWORK=tf.keras\n"
     ]
    }
   ],
   "source": [
    "%env SM_FRAMEWORK=tf.keras"
   ]
  },
  {
   "cell_type": "code",
   "execution_count": 8,
   "metadata": {
    "ExecuteTime": {
     "end_time": "2023-08-19T17:12:11.240415Z",
     "start_time": "2023-08-19T17:12:11.121288Z"
    }
   },
   "outputs": [],
   "source": [
    "import tensorflow as tf\n",
    "import glob\n",
    "import cv2\n",
    "import os\n",
    "import numpy as np\n",
    "from sklearn.model_selection import train_test_split\n",
    "import matplotlib.pyplot as plt\n",
    "import tensorflow\n",
    "from tensorflow import keras\n",
    "from keras import Sequential\n",
    "from keras.layers import *\n",
    "from keras.models import *\n",
    "from keras.preprocessing import image\n",
    "import segmentation_models as sm"
   ]
  },
  {
   "cell_type": "code",
   "execution_count": 9,
   "metadata": {
    "ExecuteTime": {
     "end_time": "2023-08-19T17:12:12.090863Z",
     "start_time": "2023-08-19T17:12:12.071750Z"
    }
   },
   "outputs": [
    {
     "data": {
      "text/plain": [
       "(54, 54, 27, 27)"
      ]
     },
     "execution_count": 9,
     "metadata": {},
     "output_type": "execute_result"
    }
   ],
   "source": [
    "images_train = glob.glob(\"./data/A.%20Segmentation/A. Segmentation/1. Original Images/a. Training Set/*.jpg\")\n",
    "images_test = glob.glob(\"./data/A.%20Segmentation/A. Segmentation/1. Original Images/b. Testing Set/*.jpg\")\n",
    "masks_train = glob.glob(\"./data/A.%20Segmentation/A. Segmentation/2. All Segmentation Groundtruths/a. Training Set/5. Optic Disc/*.tif\")\n",
    "masks_test = glob.glob(\"./data/A.%20Segmentation/A. Segmentation/2. All Segmentation Groundtruths/b. Testing Set/5. Optic Disc/*.tif\")\n",
    "images_train.sort()\n",
    "images_test.sort()\n",
    "masks_train.sort()\n",
    "masks_test.sort()\n",
    "len(images_train), len(masks_train), len(images_test), len(masks_test)"
   ]
  },
  {
   "cell_type": "code",
   "execution_count": 10,
   "metadata": {},
   "outputs": [
    {
     "data": {
      "text/plain": [
       "<matplotlib.image.AxesImage at 0x2211f02e130>"
      ]
     },
     "execution_count": 10,
     "metadata": {},
     "output_type": "execute_result"
    },
    {
     "data": {
      "image/png": "[encoded data removed]",
      "text/plain": [
       "<Figure size 640x480 with 1 Axes>"
      ]
     },
     "metadata": {},
     "output_type": "display_data"
    }
   ],
   "source": [
    "image_train=[]\n",
    "image_test=[]\n",
    "mask_train=[]\n",
    "mask_test=[]\n",
    "for x in images_train:\n",
    "    im=cv2.imread(x,cv2.IMREAD_COLOR)\n",
    "    im=cv2.resize(im,(512,512))\n",
    "    image_train.append(im)\n",
    "for x in images_test:\n",
    "    im=cv2.imread(x,cv2.IMREAD_COLOR)\n",
    "    im=cv2.resize(im,(512,512))\n",
    "    image_test.append(im)\n",
    "for y in masks_train:\n",
    "    ma=cv2.imread(y,cv2.IMREAD_GRAYSCALE)\n",
    "    ma=cv2.resize(ma,(512,512),interpolation = cv2.INTER_NEAREST)\n",
    "    plt.imshow(ma)\n",
    "    mask_train.append(ma)\n",
    "for y in masks_test:\n",
    "    ma=cv2.imread(y,cv2.IMREAD_GRAYSCALE)\n",
    "    ma=cv2.resize(ma,(512,512),interpolation = cv2.INTER_NEAREST)\n",
    "    plt.imshow(ma)\n",
    "    mask_test.append(ma)\n",
    "\n",
    "\n",
    "img_array_t=np.array(image_train)\n",
    "mask_array_t=np.array(mask_train)\n",
    "mask_array_t=np.expand_dims(mask_array_t,axis=-1)\n",
    "img_array_v=np.array(image_test)\n",
    "mask_array_v=np.array(mask_test)\n",
    "mask_array_v=np.expand_dims(mask_array_v,axis=-1)\n",
    "mask_array_t=mask_array_t.astype(np.float32)\n",
    "mask_array_v=mask_array_v.astype(np.float32)\n",
    "\n",
    "a=np.where(mask_array_t==76)\n",
    "mask_array_t[a]=1\n",
    "b=np.where(mask_array_v==76)\n",
    "mask_array_v[b]=1\n",
    "plt.imshow(mask_array_t[20])"
   ]
  },
  {
   "cell_type": "code",
   "execution_count": 11,
   "metadata": {},
   "outputs": [
    {
     "name": "stdout",
     "output_type": "stream",
     "text": [
      "You must install pydot (`pip install pydot`) and install graphviz (see instructions at https://graphviz.gitlab.io/download/) for plot_model to work.\n"
     ]
    }
   ],
   "source": [
    "from segmentation_models import Unet\n",
    "from segmentation_models import get_preprocessing\n",
    "sm.set_framework('tf.keras')\n",
    "sm.framework()\n",
    "BACKBONE = 'efficientnetb4'\n",
    "\n",
    "preprocess_input = get_preprocessing(BACKBONE)\n",
    "model = Unet(BACKBONE, input_shape=(512,512,3),encoder_weights='imagenet',activation='sigmoid')"
   ]
  },
  {
   "cell_type": "code",
   "execution_count": 12,
   "metadata": {},
   "outputs": [],
   "source": [
    "model.compile(optimizer=tf.keras.optimizers.Adam(learning_rate=0.001),loss='binary_crossentropy',metrics = ['binary_accuracy',tf.keras.metrics.Recall(), tf.keras.metrics.Precision(), tf.keras.metrics.AUC(),sm.metrics.IOUScore(),sm.metrics.FScore()])"
   ]
  },
  {
   "cell_type": "code",
   "execution_count": 13,
   "metadata": {},
   "outputs": [
    {
     "name": "stdout",
     "output_type": "stream",
     "text": [
      "Epoch 1/70\n",
      "54/54 [==============================] - 184s 3s/step - loss: 0.1749 - binary_accuracy: 0.9767 - recall: 0.8968 - precision: 0.4298 - auc: 0.9760 - iou_score: 0.1299 - f1-score: 0.2248 - val_loss: 31.2945 - val_binary_accuracy: 0.0385 - val_recall: 1.0000 - val_precision: 0.0177 - val_auc: 0.5439 - val_iou_score: 0.0177 - val_f1-score: 0.0349 - lr: 0.0010\n",
      "Epoch 2/70\n",
      "54/54 [==============================] - 157s 3s/step - loss: 0.0360 - binary_accuracy: 0.9973 - recall: 0.9405 - precision: 0.9149 - auc: 0.9978 - iou_score: 0.3444 - f1-score: 0.5071 - val_loss: 1.7951 - val_binary_accuracy: 0.5695 - val_recall: 1.0000 - val_precision: 0.0387 - val_auc: 0.9522 - val_iou_score: 0.0387 - val_f1-score: 0.0743 - lr: 0.0010\n",
      "Epoch 3/70\n",
      "54/54 [==============================] - 158s 3s/step - loss: 0.0172 - binary_accuracy: 0.9979 - recall: 0.9515 - precision: 0.9357 - auc: 0.9981 - iou_score: 0.5208 - f1-score: 0.6835 - val_loss: 0.1770 - val_binary_accuracy: 0.9514 - val_recall: 0.9939 - val_precision: 0.2619 - val_auc: 0.9957 - val_iou_score: 0.2248 - val_f1-score: 0.3590 - lr: 0.0010\n",
      "Epoch 4/70\n",
      "54/54 [==============================] - 165s 3s/step - loss: 0.0119 - binary_accuracy: 0.9985 - recall: 0.9461 - precision: 0.9687 - auc: 0.9998 - iou_score: 0.6057 - f1-score: 0.7536 - val_loss: 0.0616 - val_binary_accuracy: 0.9804 - val_recall: 0.9856 - val_precision: 0.4687 - val_auc: 0.9983 - val_iou_score: 0.3900 - val_f1-score: 0.5487 - lr: 1.0000e-04\n",
      "Epoch 5/70\n",
      "54/54 [==============================] - 153s 3s/step - loss: 0.0110 - binary_accuracy: 0.9986 - recall: 0.9583 - precision: 0.9647 - auc: 0.9998 - iou_score: 0.6255 - f1-score: 0.7689 - val_loss: 0.0324 - val_binary_accuracy: 0.9910 - val_recall: 0.9466 - val_precision: 0.6712 - val_auc: 0.9969 - val_iou_score: 0.4738 - val_f1-score: 0.6325 - lr: 1.0000e-04\n",
      "Epoch 6/70\n",
      "54/54 [==============================] - 157s 3s/step - loss: 0.0106 - binary_accuracy: 0.9987 - recall: 0.9679 - precision: 0.9600 - auc: 0.9999 - iou_score: 0.6361 - f1-score: 0.7767 - val_loss: 0.0250 - val_binary_accuracy: 0.9936 - val_recall: 0.9074 - val_precision: 0.7649 - val_auc: 0.9946 - val_iou_score: 0.4951 - val_f1-score: 0.6540 - lr: 1.0000e-05\n",
      "Epoch 7/70\n",
      "54/54 [==============================] - 165s 3s/step - loss: 0.0105 - binary_accuracy: 0.9987 - recall: 0.9656 - precision: 0.9630 - auc: 0.9999 - iou_score: 0.6379 - f1-score: 0.7781 - val_loss: 0.0228 - val_binary_accuracy: 0.9941 - val_recall: 0.8781 - val_precision: 0.8015 - val_auc: 0.9919 - val_iou_score: 0.5004 - val_f1-score: 0.6589 - lr: 1.0000e-05\n",
      "Epoch 8/70\n",
      "54/54 [==============================] - 152s 3s/step - loss: 0.0104 - binary_accuracy: 0.9987 - recall: 0.9650 - precision: 0.9644 - auc: 0.9999 - iou_score: 0.6386 - f1-score: 0.7787 - val_loss: 0.0219 - val_binary_accuracy: 0.9943 - val_recall: 0.8627 - val_precision: 0.8198 - val_auc: 0.9905 - val_iou_score: 0.5035 - val_f1-score: 0.6617 - lr: 1.0000e-06\n",
      "Epoch 9/70\n",
      "54/54 [==============================] - 167s 3s/step - loss: 0.0105 - binary_accuracy: 0.9987 - recall: 0.9656 - precision: 0.9628 - auc: 0.9999 - iou_score: 0.6386 - f1-score: 0.7787 - val_loss: 0.0220 - val_binary_accuracy: 0.9942 - val_recall: 0.8535 - val_precision: 0.8213 - val_auc: 0.9897 - val_iou_score: 0.5027 - val_f1-score: 0.6606 - lr: 1.0000e-06\n",
      "Epoch 10/70\n",
      "54/54 [==============================] - 165s 3s/step - loss: 0.0104 - binary_accuracy: 0.9987 - recall: 0.9662 - precision: 0.9645 - auc: 0.9999 - iou_score: 0.6394 - f1-score: 0.7793 - val_loss: 0.0218 - val_binary_accuracy: 0.9943 - val_recall: 0.8540 - val_precision: 0.8215 - val_auc: 0.9902 - val_iou_score: 0.5052 - val_f1-score: 0.6628 - lr: 1.0000e-07\n",
      "Epoch 11/70\n",
      "54/54 [==============================] - 158s 3s/step - loss: 0.0105 - binary_accuracy: 0.9987 - recall: 0.9658 - precision: 0.9626 - auc: 0.9999 - iou_score: 0.6388 - f1-score: 0.7788 - val_loss: 0.0216 - val_binary_accuracy: 0.9943 - val_recall: 0.8560 - val_precision: 0.8231 - val_auc: 0.9908 - val_iou_score: 0.5080 - val_f1-score: 0.6654 - lr: 1.0000e-07\n",
      "Epoch 12/70\n",
      "54/54 [==============================] - 154s 3s/step - loss: 0.0104 - binary_accuracy: 0.9987 - recall: 0.9663 - precision: 0.9639 - auc: 0.9999 - iou_score: 0.6397 - f1-score: 0.7795 - val_loss: 0.0216 - val_binary_accuracy: 0.9944 - val_recall: 0.8450 - val_precision: 0.8322 - val_auc: 0.9898 - val_iou_score: 0.5040 - val_f1-score: 0.6616 - lr: 1.0000e-08\n",
      "Epoch 13/70\n",
      "54/54 [==============================] - 167s 3s/step - loss: 0.0104 - binary_accuracy: 0.9987 - recall: 0.9661 - precision: 0.9629 - auc: 0.9999 - iou_score: 0.6391 - f1-score: 0.7790 - val_loss: 0.0217 - val_binary_accuracy: 0.9943 - val_recall: 0.8411 - val_precision: 0.8332 - val_auc: 0.9894 - val_iou_score: 0.5023 - val_f1-score: 0.6600 - lr: 1.0000e-08\n",
      "Epoch 14/70\n",
      "54/54 [==============================] - 154s 3s/step - loss: 0.0104 - binary_accuracy: 0.9987 - recall: 0.9659 - precision: 0.9638 - auc: 0.9999 - iou_score: 0.6394 - f1-score: 0.7793 - val_loss: 0.0218 - val_binary_accuracy: 0.9943 - val_recall: 0.8433 - val_precision: 0.8296 - val_auc: 0.9896 - val_iou_score: 0.5030 - val_f1-score: 0.6606 - lr: 1.0000e-09\n",
      "Epoch 15/70\n",
      "54/54 [==============================] - 211s 4s/step - loss: 0.0104 - binary_accuracy: 0.9987 - recall: 0.9649 - precision: 0.9642 - auc: 0.9999 - iou_score: 0.6390 - f1-score: 0.7789 - val_loss: 0.0220 - val_binary_accuracy: 0.9942 - val_recall: 0.8471 - val_precision: 0.8217 - val_auc: 0.9900 - val_iou_score: 0.5038 - val_f1-score: 0.6613 - lr: 1.0000e-09\n",
      "Epoch 16/70\n",
      "54/54 [==============================] - 192s 4s/step - loss: 0.0104 - binary_accuracy: 0.9987 - recall: 0.9661 - precision: 0.9626 - auc: 0.9999 - iou_score: 0.6391 - f1-score: 0.7790 - val_loss: 0.0216 - val_binary_accuracy: 0.9944 - val_recall: 0.8449 - val_precision: 0.8321 - val_auc: 0.9898 - val_iou_score: 0.5053 - val_f1-score: 0.6628 - lr: 1.0000e-10\n",
      "Epoch 17/70\n",
      "54/54 [==============================] - 238s 4s/step - loss: 0.0104 - binary_accuracy: 0.9987 - recall: 0.9668 - precision: 0.9624 - auc: 0.9999 - iou_score: 0.6395 - f1-score: 0.7793 - val_loss: 0.0215 - val_binary_accuracy: 0.9944 - val_recall: 0.8438 - val_precision: 0.8347 - val_auc: 0.9899 - val_iou_score: 0.5049 - val_f1-score: 0.6624 - lr: 1.0000e-10\n",
      "Epoch 18/70\n",
      "54/54 [==============================] - 236s 4s/step - loss: 0.0104 - binary_accuracy: 0.9987 - recall: 0.9658 - precision: 0.9636 - auc: 0.9999 - iou_score: 0.6394 - f1-score: 0.7792 - val_loss: 0.0218 - val_binary_accuracy: 0.9943 - val_recall: 0.8423 - val_precision: 0.8292 - val_auc: 0.9895 - val_iou_score: 0.5026 - val_f1-score: 0.6601 - lr: 1.0000e-11\n",
      "Epoch 19/70\n",
      "54/54 [==============================] - 239s 4s/step - loss: 0.0104 - binary_accuracy: 0.9987 - recall: 0.9659 - precision: 0.9637 - auc: 0.9999 - iou_score: 0.6392 - f1-score: 0.7791 - val_loss: 0.0218 - val_binary_accuracy: 0.9943 - val_recall: 0.8412 - val_precision: 0.8300 - val_auc: 0.9895 - val_iou_score: 0.5023 - val_f1-score: 0.6599 - lr: 1.0000e-11\n",
      "Epoch 20/70\n",
      "54/54 [==============================] - 236s 4s/step - loss: 0.0104 - binary_accuracy: 0.9988 - recall: 0.9671 - precision: 0.9640 - auc: 0.9999 - iou_score: 0.6397 - f1-score: 0.7795 - val_loss: 0.0217 - val_binary_accuracy: 0.9944 - val_recall: 0.8374 - val_precision: 0.8367 - val_auc: 0.9890 - val_iou_score: 0.5015 - val_f1-score: 0.6592 - lr: 1.0000e-12\n",
      "Epoch 21/70\n",
      "54/54 [==============================] - 226s 4s/step - loss: 0.0104 - binary_accuracy: 0.9988 - recall: 0.9655 - precision: 0.9653 - auc: 0.9999 - iou_score: 0.6395 - f1-score: 0.7793 - val_loss: 0.0217 - val_binary_accuracy: 0.9943 - val_recall: 0.8381 - val_precision: 0.8341 - val_auc: 0.9891 - val_iou_score: 0.5017 - val_f1-score: 0.6593 - lr: 1.0000e-12\n",
      "Epoch 22/70\n",
      "54/54 [==============================] - 182s 3s/step - loss: 0.0104 - binary_accuracy: 0.9987 - recall: 0.9661 - precision: 0.9640 - auc: 0.9999 - iou_score: 0.6394 - f1-score: 0.7792 - val_loss: 0.0218 - val_binary_accuracy: 0.9943 - val_recall: 0.8375 - val_precision: 0.8334 - val_auc: 0.9890 - val_iou_score: 0.5011 - val_f1-score: 0.6588 - lr: 1.0000e-13\n",
      "Epoch 23/70\n"
     ]
    },
    {
     "name": "stdout",
     "output_type": "stream",
     "text": [
      "54/54 [==============================] - 202s 4s/step - loss: 0.0104 - binary_accuracy: 0.9987 - recall: 0.9656 - precision: 0.9640 - auc: 0.9999 - iou_score: 0.6391 - f1-score: 0.7790 - val_loss: 0.0219 - val_binary_accuracy: 0.9942 - val_recall: 0.8458 - val_precision: 0.8253 - val_auc: 0.9899 - val_iou_score: 0.5045 - val_f1-score: 0.6619 - lr: 1.0000e-13\n",
      "Epoch 24/70\n",
      "54/54 [==============================] - 210s 4s/step - loss: 0.0104 - binary_accuracy: 0.9987 - recall: 0.9660 - precision: 0.9631 - auc: 0.9999 - iou_score: 0.6391 - f1-score: 0.7791 - val_loss: 0.0214 - val_binary_accuracy: 0.9944 - val_recall: 0.8457 - val_precision: 0.8350 - val_auc: 0.9901 - val_iou_score: 0.5068 - val_f1-score: 0.6642 - lr: 1.0000e-14\n",
      "Epoch 25/70\n",
      "54/54 [==============================] - 225s 4s/step - loss: 0.0104 - binary_accuracy: 0.9987 - recall: 0.9665 - precision: 0.9631 - auc: 0.9999 - iou_score: 0.6394 - f1-score: 0.7792 - val_loss: 0.0215 - val_binary_accuracy: 0.9944 - val_recall: 0.8487 - val_precision: 0.8300 - val_auc: 0.9904 - val_iou_score: 0.5071 - val_f1-score: 0.6645 - lr: 1.0000e-14\n",
      "Epoch 26/70\n",
      "54/54 [==============================] - 346s 6s/step - loss: 0.0104 - binary_accuracy: 0.9987 - recall: 0.9662 - precision: 0.9640 - auc: 0.9999 - iou_score: 0.6393 - f1-score: 0.7792 - val_loss: 0.0217 - val_binary_accuracy: 0.9943 - val_recall: 0.8417 - val_precision: 0.8319 - val_auc: 0.9895 - val_iou_score: 0.5034 - val_f1-score: 0.6609 - lr: 1.0000e-15\n",
      "Epoch 27/70\n",
      "54/54 [==============================] - 345s 6s/step - loss: 0.0104 - binary_accuracy: 0.9987 - recall: 0.9668 - precision: 0.9630 - auc: 0.9999 - iou_score: 0.6395 - f1-score: 0.7793 - val_loss: 0.0216 - val_binary_accuracy: 0.9943 - val_recall: 0.8415 - val_precision: 0.8330 - val_auc: 0.9895 - val_iou_score: 0.5035 - val_f1-score: 0.6611 - lr: 1.0000e-15\n",
      "Epoch 28/70\n",
      "54/54 [==============================] - 288s 5s/step - loss: 0.0104 - binary_accuracy: 0.9987 - recall: 0.9659 - precision: 0.9644 - auc: 0.9999 - iou_score: 0.6395 - f1-score: 0.7793 - val_loss: 0.0214 - val_binary_accuracy: 0.9944 - val_recall: 0.8434 - val_precision: 0.8366 - val_auc: 0.9899 - val_iou_score: 0.5055 - val_f1-score: 0.6629 - lr: 1.0000e-16\n",
      "Epoch 29/70\n",
      "54/54 [==============================] - 273s 5s/step - loss: 0.0104 - binary_accuracy: 0.9987 - recall: 0.9659 - precision: 0.9643 - auc: 0.9999 - iou_score: 0.6392 - f1-score: 0.7791 - val_loss: 0.0217 - val_binary_accuracy: 0.9943 - val_recall: 0.8441 - val_precision: 0.8309 - val_auc: 0.9899 - val_iou_score: 0.5043 - val_f1-score: 0.6618 - lr: 1.0000e-16\n",
      "Epoch 30/70\n",
      "54/54 [==============================] - 160s 3s/step - loss: 0.0105 - binary_accuracy: 0.9987 - recall: 0.9660 - precision: 0.9619 - auc: 0.9999 - iou_score: 0.6388 - f1-score: 0.7788 - val_loss: 0.0218 - val_binary_accuracy: 0.9943 - val_recall: 0.8445 - val_precision: 0.8281 - val_auc: 0.9898 - val_iou_score: 0.5038 - val_f1-score: 0.6613 - lr: 1.0000e-17\n",
      "Epoch 31/70\n",
      "54/54 [==============================] - 152s 3s/step - loss: 0.0104 - binary_accuracy: 0.9987 - recall: 0.9661 - precision: 0.9637 - auc: 0.9999 - iou_score: 0.6395 - f1-score: 0.7793 - val_loss: 0.0217 - val_binary_accuracy: 0.9943 - val_recall: 0.8482 - val_precision: 0.8264 - val_auc: 0.9902 - val_iou_score: 0.5061 - val_f1-score: 0.6635 - lr: 1.0000e-17\n",
      "Epoch 32/70\n",
      "54/54 [==============================] - 160s 3s/step - loss: 0.0104 - binary_accuracy: 0.9987 - recall: 0.9665 - precision: 0.9631 - auc: 0.9999 - iou_score: 0.6395 - f1-score: 0.7793 - val_loss: 0.0217 - val_binary_accuracy: 0.9943 - val_recall: 0.8462 - val_precision: 0.8285 - val_auc: 0.9901 - val_iou_score: 0.5051 - val_f1-score: 0.6625 - lr: 1.0000e-18\n",
      "Epoch 33/70\n",
      "54/54 [==============================] - 149s 3s/step - loss: 0.0105 - binary_accuracy: 0.9987 - recall: 0.9656 - precision: 0.9626 - auc: 0.9999 - iou_score: 0.6387 - f1-score: 0.7787 - val_loss: 0.0217 - val_binary_accuracy: 0.9943 - val_recall: 0.8427 - val_precision: 0.8322 - val_auc: 0.9897 - val_iou_score: 0.5041 - val_f1-score: 0.6616 - lr: 1.0000e-18\n",
      "Epoch 34/70\n",
      "54/54 [==============================] - 171s 3s/step - loss: 0.0104 - binary_accuracy: 0.9987 - recall: 0.9658 - precision: 0.9648 - auc: 0.9999 - iou_score: 0.6395 - f1-score: 0.7794 - val_loss: 0.0216 - val_binary_accuracy: 0.9944 - val_recall: 0.8365 - val_precision: 0.8386 - val_auc: 0.9890 - val_iou_score: 0.5018 - val_f1-score: 0.6595 - lr: 1.0000e-19\n",
      "Epoch 35/70\n",
      "54/54 [==============================] - 180s 3s/step - loss: 0.0104 - binary_accuracy: 0.9987 - recall: 0.9659 - precision: 0.9631 - auc: 0.9999 - iou_score: 0.6392 - f1-score: 0.7791 - val_loss: 0.0214 - val_binary_accuracy: 0.9945 - val_recall: 0.8364 - val_precision: 0.8436 - val_auc: 0.9892 - val_iou_score: 0.5027 - val_f1-score: 0.6603 - lr: 1.0000e-19\n",
      "Epoch 36/70\n",
      "54/54 [==============================] - 179s 3s/step - loss: 0.0104 - binary_accuracy: 0.9987 - recall: 0.9663 - precision: 0.9637 - auc: 0.9999 - iou_score: 0.6395 - f1-score: 0.7793 - val_loss: 0.0212 - val_binary_accuracy: 0.9945 - val_recall: 0.8420 - val_precision: 0.8416 - val_auc: 0.9899 - val_iou_score: 0.5058 - val_f1-score: 0.6633 - lr: 1.0000e-20\n",
      "Epoch 37/70\n",
      "54/54 [==============================] - 176s 3s/step - loss: 0.0104 - binary_accuracy: 0.9988 - recall: 0.9668 - precision: 0.9641 - auc: 0.9999 - iou_score: 0.6398 - f1-score: 0.7795 - val_loss: 0.0216 - val_binary_accuracy: 0.9944 - val_recall: 0.8437 - val_precision: 0.8331 - val_auc: 0.9899 - val_iou_score: 0.5049 - val_f1-score: 0.6625 - lr: 1.0000e-20\n",
      "Epoch 38/70\n",
      "54/54 [==============================] - 185s 3s/step - loss: 0.0104 - binary_accuracy: 0.9987 - recall: 0.9653 - precision: 0.9647 - auc: 0.9999 - iou_score: 0.6394 - f1-score: 0.7793 - val_loss: 0.0215 - val_binary_accuracy: 0.9944 - val_recall: 0.8445 - val_precision: 0.8335 - val_auc: 0.9900 - val_iou_score: 0.5054 - val_f1-score: 0.6629 - lr: 1.0000e-21\n",
      "Epoch 39/70\n",
      "54/54 [==============================] - 229s 4s/step - loss: 0.0104 - binary_accuracy: 0.9987 - recall: 0.9667 - precision: 0.9639 - auc: 0.9999 - iou_score: 0.6398 - f1-score: 0.7796 - val_loss: 0.0214 - val_binary_accuracy: 0.9944 - val_recall: 0.8449 - val_precision: 0.8356 - val_auc: 0.9901 - val_iou_score: 0.5063 - val_f1-score: 0.6637 - lr: 1.0000e-21\n",
      "Epoch 40/70\n",
      "54/54 [==============================] - 179s 3s/step - loss: 0.0104 - binary_accuracy: 0.9987 - recall: 0.9664 - precision: 0.9631 - auc: 0.9999 - iou_score: 0.6393 - f1-score: 0.7792 - val_loss: 0.0215 - val_binary_accuracy: 0.9944 - val_recall: 0.8419 - val_precision: 0.8363 - val_auc: 0.9896 - val_iou_score: 0.5047 - val_f1-score: 0.6622 - lr: 1.0000e-22\n",
      "Epoch 41/70\n",
      "54/54 [==============================] - 181s 3s/step - loss: 0.0104 - binary_accuracy: 0.9987 - recall: 0.9667 - precision: 0.9636 - auc: 0.9999 - iou_score: 0.6395 - f1-score: 0.7793 - val_loss: 0.0214 - val_binary_accuracy: 0.9945 - val_recall: 0.8426 - val_precision: 0.8380 - val_auc: 0.9898 - val_iou_score: 0.5053 - val_f1-score: 0.6628 - lr: 1.0000e-22\n",
      "Epoch 42/70\n",
      "54/54 [==============================] - 180s 3s/step - loss: 0.0104 - binary_accuracy: 0.9987 - recall: 0.9667 - precision: 0.9624 - auc: 0.9999 - iou_score: 0.6392 - f1-score: 0.7791 - val_loss: 0.0215 - val_binary_accuracy: 0.9944 - val_recall: 0.8381 - val_precision: 0.8399 - val_auc: 0.9892 - val_iou_score: 0.5029 - val_f1-score: 0.6605 - lr: 1.0000e-23\n",
      "Epoch 43/70\n",
      "54/54 [==============================] - 172s 3s/step - loss: 0.0104 - binary_accuracy: 0.9987 - recall: 0.9661 - precision: 0.9638 - auc: 0.9999 - iou_score: 0.6394 - f1-score: 0.7793 - val_loss: 0.0215 - val_binary_accuracy: 0.9944 - val_recall: 0.8388 - val_precision: 0.8392 - val_auc: 0.9892 - val_iou_score: 0.5032 - val_f1-score: 0.6608 - lr: 1.0000e-23\n",
      "Epoch 44/70\n",
      "54/54 [==============================] - 183s 3s/step - loss: 0.0104 - binary_accuracy: 0.9987 - recall: 0.9673 - precision: 0.9622 - auc: 0.9999 - iou_score: 0.6395 - f1-score: 0.7793 - val_loss: 0.0216 - val_binary_accuracy: 0.9944 - val_recall: 0.8404 - val_precision: 0.8357 - val_auc: 0.9894 - val_iou_score: 0.5034 - val_f1-score: 0.6610 - lr: 1.0000e-24\n"
     ]
    },
    {
     "name": "stdout",
     "output_type": "stream",
     "text": [
      "Epoch 45/70\n",
      "54/54 [==============================] - 180s 3s/step - loss: 0.0105 - binary_accuracy: 0.9987 - recall: 0.9660 - precision: 0.9619 - auc: 0.9999 - iou_score: 0.6388 - f1-score: 0.7788 - val_loss: 0.0218 - val_binary_accuracy: 0.9942 - val_recall: 0.8484 - val_precision: 0.8239 - val_auc: 0.9901 - val_iou_score: 0.5060 - val_f1-score: 0.6633 - lr: 1.0000e-24\n",
      "Epoch 46/70\n",
      "54/54 [==============================] - 177s 3s/step - loss: 0.0104 - binary_accuracy: 0.9987 - recall: 0.9658 - precision: 0.9633 - auc: 0.9999 - iou_score: 0.6390 - f1-score: 0.7790 - val_loss: 0.0219 - val_binary_accuracy: 0.9942 - val_recall: 0.8468 - val_precision: 0.8249 - val_auc: 0.9901 - val_iou_score: 0.5049 - val_f1-score: 0.6624 - lr: 1.0000e-25\n",
      "Epoch 47/70\n",
      "54/54 [==============================] - 188s 3s/step - loss: 0.0104 - binary_accuracy: 0.9987 - recall: 0.9663 - precision: 0.9642 - auc: 0.9999 - iou_score: 0.6395 - f1-score: 0.7793 - val_loss: 0.0217 - val_binary_accuracy: 0.9943 - val_recall: 0.8437 - val_precision: 0.8302 - val_auc: 0.9898 - val_iou_score: 0.5041 - val_f1-score: 0.6616 - lr: 1.0000e-25\n",
      "Epoch 48/70\n",
      "54/54 [==============================] - 182s 3s/step - loss: 0.0104 - binary_accuracy: 0.9987 - recall: 0.9666 - precision: 0.9638 - auc: 0.9999 - iou_score: 0.6396 - f1-score: 0.7794 - val_loss: 0.0219 - val_binary_accuracy: 0.9942 - val_recall: 0.8440 - val_precision: 0.8265 - val_auc: 0.9898 - val_iou_score: 0.5028 - val_f1-score: 0.6603 - lr: 1.0000e-26\n",
      "Epoch 49/70\n",
      "54/54 [==============================] - 182s 3s/step - loss: 0.0104 - binary_accuracy: 0.9987 - recall: 0.9661 - precision: 0.9644 - auc: 0.9999 - iou_score: 0.6393 - f1-score: 0.7792 - val_loss: 0.0219 - val_binary_accuracy: 0.9943 - val_recall: 0.8376 - val_precision: 0.8330 - val_auc: 0.9889 - val_iou_score: 0.5006 - val_f1-score: 0.6582 - lr: 1.0000e-26\n",
      "Epoch 50/70\n",
      "54/54 [==============================] - 244s 5s/step - loss: 0.0104 - binary_accuracy: 0.9987 - recall: 0.9664 - precision: 0.9634 - auc: 0.9999 - iou_score: 0.6396 - f1-score: 0.7794 - val_loss: 0.0217 - val_binary_accuracy: 0.9943 - val_recall: 0.8412 - val_precision: 0.8324 - val_auc: 0.9894 - val_iou_score: 0.5028 - val_f1-score: 0.6604 - lr: 1.0000e-27\n",
      "Epoch 51/70\n",
      "54/54 [==============================] - 267s 5s/step - loss: 0.0104 - binary_accuracy: 0.9987 - recall: 0.9668 - precision: 0.9638 - auc: 0.9999 - iou_score: 0.6396 - f1-score: 0.7794 - val_loss: 0.0218 - val_binary_accuracy: 0.9943 - val_recall: 0.8450 - val_precision: 0.8285 - val_auc: 0.9899 - val_iou_score: 0.5045 - val_f1-score: 0.6620 - lr: 1.0000e-27\n",
      "Epoch 52/70\n",
      "54/54 [==============================] - 249s 5s/step - loss: 0.0104 - binary_accuracy: 0.9987 - recall: 0.9666 - precision: 0.9628 - auc: 0.9999 - iou_score: 0.6395 - f1-score: 0.7793 - val_loss: 0.0217 - val_binary_accuracy: 0.9943 - val_recall: 0.8416 - val_precision: 0.8311 - val_auc: 0.9894 - val_iou_score: 0.5029 - val_f1-score: 0.6605 - lr: 1.0000e-28\n",
      "Epoch 53/70\n",
      "54/54 [==============================] - 262s 5s/step - loss: 0.0104 - binary_accuracy: 0.9987 - recall: 0.9661 - precision: 0.9638 - auc: 0.9999 - iou_score: 0.6393 - f1-score: 0.7792 - val_loss: 0.0216 - val_binary_accuracy: 0.9943 - val_recall: 0.8444 - val_precision: 0.8316 - val_auc: 0.9898 - val_iou_score: 0.5048 - val_f1-score: 0.6623 - lr: 1.0000e-28\n",
      "Epoch 54/70\n",
      "54/54 [==============================] - 240s 4s/step - loss: 0.0104 - binary_accuracy: 0.9987 - recall: 0.9657 - precision: 0.9645 - auc: 0.9999 - iou_score: 0.6395 - f1-score: 0.7794 - val_loss: 0.0214 - val_binary_accuracy: 0.9944 - val_recall: 0.8429 - val_precision: 0.8370 - val_auc: 0.9898 - val_iou_score: 0.5052 - val_f1-score: 0.6627 - lr: 1.0000e-29\n",
      "Epoch 55/70\n",
      "54/54 [==============================] - 216s 4s/step - loss: 0.0104 - binary_accuracy: 0.9987 - recall: 0.9660 - precision: 0.9642 - auc: 0.9999 - iou_score: 0.6395 - f1-score: 0.7793 - val_loss: 0.0216 - val_binary_accuracy: 0.9944 - val_recall: 0.8466 - val_precision: 0.8305 - val_auc: 0.9901 - val_iou_score: 0.5060 - val_f1-score: 0.6634 - lr: 1.0000e-29\n",
      "Epoch 56/70\n",
      "54/54 [==============================] - 201s 4s/step - loss: 0.0104 - binary_accuracy: 0.9987 - recall: 0.9662 - precision: 0.9633 - auc: 0.9999 - iou_score: 0.6392 - f1-score: 0.7791 - val_loss: 0.0218 - val_binary_accuracy: 0.9943 - val_recall: 0.8426 - val_precision: 0.8298 - val_auc: 0.9895 - val_iou_score: 0.5032 - val_f1-score: 0.6608 - lr: 1.0000e-30\n",
      "Epoch 57/70\n",
      "54/54 [==============================] - 199s 4s/step - loss: 0.0104 - binary_accuracy: 0.9987 - recall: 0.9659 - precision: 0.9637 - auc: 0.9999 - iou_score: 0.6391 - f1-score: 0.7790 - val_loss: 0.0218 - val_binary_accuracy: 0.9943 - val_recall: 0.8400 - val_precision: 0.8314 - val_auc: 0.9892 - val_iou_score: 0.5021 - val_f1-score: 0.6596 - lr: 1.0000e-30\n",
      "Epoch 58/70\n",
      "54/54 [==============================] - 190s 4s/step - loss: 0.0104 - binary_accuracy: 0.9988 - recall: 0.9664 - precision: 0.9649 - auc: 0.9999 - iou_score: 0.6397 - f1-score: 0.7795 - val_loss: 0.0219 - val_binary_accuracy: 0.9942 - val_recall: 0.8410 - val_precision: 0.8281 - val_auc: 0.9893 - val_iou_score: 0.5020 - val_f1-score: 0.6596 - lr: 1.0000e-31\n",
      "Epoch 59/70\n",
      "54/54 [==============================] - 180s 3s/step - loss: 0.0104 - binary_accuracy: 0.9987 - recall: 0.9668 - precision: 0.9640 - auc: 0.9999 - iou_score: 0.6398 - f1-score: 0.7795 - val_loss: 0.0217 - val_binary_accuracy: 0.9943 - val_recall: 0.8422 - val_precision: 0.8316 - val_auc: 0.9896 - val_iou_score: 0.5036 - val_f1-score: 0.6612 - lr: 1.0000e-31\n",
      "Epoch 60/70\n",
      "54/54 [==============================] - 184s 3s/step - loss: 0.0104 - binary_accuracy: 0.9987 - recall: 0.9652 - precision: 0.9644 - auc: 0.9999 - iou_score: 0.6392 - f1-score: 0.7792 - val_loss: 0.0217 - val_binary_accuracy: 0.9943 - val_recall: 0.8409 - val_precision: 0.8332 - val_auc: 0.9894 - val_iou_score: 0.5032 - val_f1-score: 0.6608 - lr: 1.0000e-32\n",
      "Epoch 61/70\n",
      "54/54 [==============================] - 183s 3s/step - loss: 0.0104 - binary_accuracy: 0.9987 - recall: 0.9661 - precision: 0.9635 - auc: 0.9999 - iou_score: 0.6394 - f1-score: 0.7793 - val_loss: 0.0215 - val_binary_accuracy: 0.9944 - val_recall: 0.8404 - val_precision: 0.8369 - val_auc: 0.9895 - val_iou_score: 0.5039 - val_f1-score: 0.6614 - lr: 1.0000e-32\n",
      "Epoch 62/70\n",
      "54/54 [==============================] - 248s 5s/step - loss: 0.0104 - binary_accuracy: 0.9987 - recall: 0.9653 - precision: 0.9637 - auc: 0.9999 - iou_score: 0.6391 - f1-score: 0.7790 - val_loss: 0.0214 - val_binary_accuracy: 0.9944 - val_recall: 0.8449 - val_precision: 0.8349 - val_auc: 0.9900 - val_iou_score: 0.5061 - val_f1-score: 0.6635 - lr: 1.0000e-33\n",
      "Epoch 63/70\n",
      "54/54 [==============================] - 266s 5s/step - loss: 0.0104 - binary_accuracy: 0.9987 - recall: 0.9659 - precision: 0.9629 - auc: 0.9999 - iou_score: 0.6390 - f1-score: 0.7790 - val_loss: 0.0214 - val_binary_accuracy: 0.9944 - val_recall: 0.8448 - val_precision: 0.8352 - val_auc: 0.9901 - val_iou_score: 0.5060 - val_f1-score: 0.6635 - lr: 1.0000e-33\n",
      "Epoch 64/70\n",
      "54/54 [==============================] - 246s 5s/step - loss: 0.0104 - binary_accuracy: 0.9987 - recall: 0.9657 - precision: 0.9632 - auc: 0.9999 - iou_score: 0.6390 - f1-score: 0.7790 - val_loss: 0.0210 - val_binary_accuracy: 0.9945 - val_recall: 0.8491 - val_precision: 0.8377 - val_auc: 0.9906 - val_iou_score: 0.5094 - val_f1-score: 0.6668 - lr: 1.0000e-34\n",
      "Epoch 65/70\n",
      "54/54 [==============================] - 235s 4s/step - loss: 0.0104 - binary_accuracy: 0.9987 - recall: 0.9653 - precision: 0.9654 - auc: 0.9999 - iou_score: 0.6395 - f1-score: 0.7794 - val_loss: 0.0212 - val_binary_accuracy: 0.9945 - val_recall: 0.8473 - val_precision: 0.8375 - val_auc: 0.9904 - val_iou_score: 0.5075 - val_f1-score: 0.6649 - lr: 1.0000e-34\n",
      "Epoch 66/70\n",
      "54/54 [==============================] - 283s 5s/step - loss: 0.0104 - binary_accuracy: 0.9987 - recall: 0.9661 - precision: 0.9638 - auc: 0.9999 - iou_score: 0.6395 - f1-score: 0.7794 - val_loss: 0.0213 - val_binary_accuracy: 0.9945 - val_recall: 0.8471 - val_precision: 0.8356 - val_auc: 0.9904 - val_iou_score: 0.5069 - val_f1-score: 0.6643 - lr: 1.0000e-35\n"
     ]
    },
    {
     "name": "stdout",
     "output_type": "stream",
     "text": [
      "Epoch 67/70\n",
      "54/54 [==============================] - 272s 5s/step - loss: 0.0104 - binary_accuracy: 0.9987 - recall: 0.9659 - precision: 0.9639 - auc: 0.9999 - iou_score: 0.6395 - f1-score: 0.7794 - val_loss: 0.0211 - val_binary_accuracy: 0.9945 - val_recall: 0.8509 - val_precision: 0.8368 - val_auc: 0.9910 - val_iou_score: 0.5094 - val_f1-score: 0.6668 - lr: 1.0000e-35\n",
      "Epoch 68/70\n",
      "54/54 [==============================] - 243s 5s/step - loss: 0.0104 - binary_accuracy: 0.9987 - recall: 0.9658 - precision: 0.9648 - auc: 0.9999 - iou_score: 0.6395 - f1-score: 0.7793 - val_loss: 0.0215 - val_binary_accuracy: 0.9944 - val_recall: 0.8478 - val_precision: 0.8318 - val_auc: 0.9903 - val_iou_score: 0.5069 - val_f1-score: 0.6643 - lr: 1.0000e-36\n",
      "Epoch 69/70\n",
      "54/54 [==============================] - 223s 4s/step - loss: 0.0104 - binary_accuracy: 0.9987 - recall: 0.9663 - precision: 0.9632 - auc: 0.9999 - iou_score: 0.6394 - f1-score: 0.7792 - val_loss: 0.0215 - val_binary_accuracy: 0.9944 - val_recall: 0.8458 - val_precision: 0.8333 - val_auc: 0.9901 - val_iou_score: 0.5058 - val_f1-score: 0.6633 - lr: 1.0000e-36\n",
      "Epoch 70/70\n",
      "54/54 [==============================] - 187s 3s/step - loss: 0.0104 - binary_accuracy: 0.9988 - recall: 0.9663 - precision: 0.9647 - auc: 0.9999 - iou_score: 0.6397 - f1-score: 0.7794 - val_loss: 0.0216 - val_binary_accuracy: 0.9944 - val_recall: 0.8443 - val_precision: 0.8330 - val_auc: 0.9899 - val_iou_score: 0.5046 - val_f1-score: 0.6621 - lr: 1.0000e-37\n"
     ]
    }
   ],
   "source": [
    "from tensorflow.keras.callbacks import ModelCheckpoint, ReduceLROnPlateau, EarlyStopping\n",
    "mp=ModelCheckpoint('best_seg model.h5',save_best_only=True,monitor='val_iou_score')\n",
    "lrp=ReduceLROnPlateau(monitor=\"iou_score\", factor=0.1, patience=2)\n",
    "es=EarlyStopping(patience=2,monitor='iou_score')\n",
    "call=[lrp]\n",
    "history=model.fit(img_array_t, \n",
    "          mask_array_t,\n",
    "          batch_size=1, \n",
    "          epochs=70,\n",
    "          validation_data=(img_array_v, mask_array_v),callbacks=call)"
   ]
  },
  {
   "cell_type": "code",
   "execution_count": 14,
   "metadata": {},
   "outputs": [],
   "source": [
    "import pickle"
   ]
  },
  {
   "cell_type": "code",
   "execution_count": 15,
   "metadata": {},
   "outputs": [
    {
     "name": "stderr",
     "output_type": "stream",
     "text": [
      "WARNING:absl:Found untraced functions such as _jit_compiled_convolution_op, _jit_compiled_convolution_op, _jit_compiled_convolution_op, _jit_compiled_convolution_op, _jit_compiled_convolution_op while saving (showing 5 of 171). These functions will not be directly callable after loading.\n"
     ]
    },
    {
     "name": "stdout",
     "output_type": "stream",
     "text": [
      "INFO:tensorflow:Assets written to: ram://573152ad-d578-4193-8b74-30862c1682de/assets\n"
     ]
    },
    {
     "name": "stderr",
     "output_type": "stream",
     "text": [
      "INFO:tensorflow:Assets written to: ram://573152ad-d578-4193-8b74-30862c1682de/assets\n"
     ]
    }
   ],
   "source": [
    "with open('model.pkl','wb') as f:\n",
    "    pickle.dump(model,f)"
   ]
  },
  {
   "cell_type": "code",
   "execution_count": 16,
   "metadata": {},
   "outputs": [
    {
     "name": "stderr",
     "output_type": "stream",
     "text": [
      "WARNING:absl:Found untraced functions such as _jit_compiled_convolution_op, _jit_compiled_convolution_op, _jit_compiled_convolution_op, _jit_compiled_convolution_op, _jit_compiled_convolution_op while saving (showing 5 of 171). These functions will not be directly callable after loading.\n"
     ]
    },
    {
     "name": "stdout",
     "output_type": "stream",
     "text": [
      "INFO:tensorflow:Assets written to: ram://78380fad-9b7a-472d-9f17-bd15644207e2/assets\n"
     ]
    },
    {
     "name": "stderr",
     "output_type": "stream",
     "text": [
      "INFO:tensorflow:Assets written to: ram://78380fad-9b7a-472d-9f17-bd15644207e2/assets\n"
     ]
    }
   ],
   "source": [
    "with open('modelpkl','wb') as f:\n",
    "    pickle.dump(model,f)"
   ]
  },
  {
   "cell_type": "code",
   "execution_count": 18,
   "metadata": {},
   "outputs": [
    {
     "ename": "ValueError",
     "evalue": "Unable to restore custom object of type _tf_keras_metric. Please make sure that any custom layers are included in the `custom_objects` arg when calling `load_model()` and make sure that all layers implement `get_config` and `from_config`.",
     "output_type": "error",
     "traceback": [
      "\u001b[1;31m---------------------------------------------------------------------------\u001b[0m",
      "\u001b[1;31mValueError\u001b[0m                                Traceback (most recent call last)",
      "Cell \u001b[1;32mIn[18], line 2\u001b[0m\n\u001b[0;32m      1\u001b[0m \u001b[38;5;28;01mwith\u001b[39;00m \u001b[38;5;28mopen\u001b[39m(\u001b[38;5;124m'\u001b[39m\u001b[38;5;124mmodel.pkl\u001b[39m\u001b[38;5;124m'\u001b[39m,\u001b[38;5;124m'\u001b[39m\u001b[38;5;124mrb\u001b[39m\u001b[38;5;124m'\u001b[39m) \u001b[38;5;28;01mas\u001b[39;00m f:\n\u001b[1;32m----> 2\u001b[0m     mmm\u001b[38;5;241m=\u001b[39m\u001b[43mpickle\u001b[49m\u001b[38;5;241;43m.\u001b[39;49m\u001b[43mload\u001b[49m\u001b[43m(\u001b[49m\u001b[43mf\u001b[49m\u001b[43m)\u001b[49m\n",
      "File \u001b[1;32m~\\anaconda3\\envs\\py39\\lib\\site-packages\\keras\\saving\\pickle_utils.py:47\u001b[0m, in \u001b[0;36mdeserialize_model_from_bytecode\u001b[1;34m(serialized_model)\u001b[0m\n\u001b[0;32m     45\u001b[0m             \u001b[38;5;28;01mwith\u001b[39;00m tf\u001b[38;5;241m.\u001b[39mio\u001b[38;5;241m.\u001b[39mgfile\u001b[38;5;241m.\u001b[39mGFile(dest_path, \u001b[38;5;124m\"\u001b[39m\u001b[38;5;124mwb\u001b[39m\u001b[38;5;124m\"\u001b[39m) \u001b[38;5;28;01mas\u001b[39;00m f:\n\u001b[0;32m     46\u001b[0m                 f\u001b[38;5;241m.\u001b[39mwrite(archive\u001b[38;5;241m.\u001b[39mextractfile(name)\u001b[38;5;241m.\u001b[39mread())\n\u001b[1;32m---> 47\u001b[0m model \u001b[38;5;241m=\u001b[39m \u001b[43msave_module\u001b[49m\u001b[38;5;241;43m.\u001b[39;49m\u001b[43mload_model\u001b[49m\u001b[43m(\u001b[49m\u001b[43mtemp_dir\u001b[49m\u001b[43m)\u001b[49m\n\u001b[0;32m     48\u001b[0m tf\u001b[38;5;241m.\u001b[39mio\u001b[38;5;241m.\u001b[39mgfile\u001b[38;5;241m.\u001b[39mrmtree(temp_dir)\n\u001b[0;32m     49\u001b[0m \u001b[38;5;28;01mreturn\u001b[39;00m model\n",
      "File \u001b[1;32m~\\anaconda3\\envs\\py39\\lib\\site-packages\\keras\\utils\\traceback_utils.py:70\u001b[0m, in \u001b[0;36mfilter_traceback.<locals>.error_handler\u001b[1;34m(*args, **kwargs)\u001b[0m\n\u001b[0;32m     67\u001b[0m     filtered_tb \u001b[38;5;241m=\u001b[39m _process_traceback_frames(e\u001b[38;5;241m.\u001b[39m__traceback__)\n\u001b[0;32m     68\u001b[0m     \u001b[38;5;66;03m# To get the full stack trace, call:\u001b[39;00m\n\u001b[0;32m     69\u001b[0m     \u001b[38;5;66;03m# `tf.debugging.disable_traceback_filtering()`\u001b[39;00m\n\u001b[1;32m---> 70\u001b[0m     \u001b[38;5;28;01mraise\u001b[39;00m e\u001b[38;5;241m.\u001b[39mwith_traceback(filtered_tb) \u001b[38;5;28;01mfrom\u001b[39;00m \u001b[38;5;28;01mNone\u001b[39;00m\n\u001b[0;32m     71\u001b[0m \u001b[38;5;28;01mfinally\u001b[39;00m:\n\u001b[0;32m     72\u001b[0m     \u001b[38;5;28;01mdel\u001b[39;00m filtered_tb\n",
      "File \u001b[1;32m~\\anaconda3\\envs\\py39\\lib\\site-packages\\keras\\saving\\saved_model\\load.py:1137\u001b[0m, in \u001b[0;36mrevive_custom_object\u001b[1;34m(identifier, metadata)\u001b[0m\n\u001b[0;32m   1135\u001b[0m     \u001b[38;5;28;01mreturn\u001b[39;00m revived_cls\u001b[38;5;241m.\u001b[39m_init_from_metadata(metadata)\n\u001b[0;32m   1136\u001b[0m \u001b[38;5;28;01melse\u001b[39;00m:\n\u001b[1;32m-> 1137\u001b[0m     \u001b[38;5;28;01mraise\u001b[39;00m \u001b[38;5;167;01mValueError\u001b[39;00m(\n\u001b[0;32m   1138\u001b[0m         \u001b[38;5;124mf\u001b[39m\u001b[38;5;124m\"\u001b[39m\u001b[38;5;124mUnable to restore custom object of type \u001b[39m\u001b[38;5;132;01m{\u001b[39;00midentifier\u001b[38;5;132;01m}\u001b[39;00m\u001b[38;5;124m. \u001b[39m\u001b[38;5;124m\"\u001b[39m\n\u001b[0;32m   1139\u001b[0m         \u001b[38;5;124mf\u001b[39m\u001b[38;5;124m\"\u001b[39m\u001b[38;5;124mPlease make sure that any custom layers are included in the \u001b[39m\u001b[38;5;124m\"\u001b[39m\n\u001b[0;32m   1140\u001b[0m         \u001b[38;5;124mf\u001b[39m\u001b[38;5;124m\"\u001b[39m\u001b[38;5;124m`custom_objects` arg when calling `load_model()` and make sure \u001b[39m\u001b[38;5;124m\"\u001b[39m\n\u001b[0;32m   1141\u001b[0m         \u001b[38;5;124mf\u001b[39m\u001b[38;5;124m\"\u001b[39m\u001b[38;5;124mthat all layers implement `get_config` and `from_config`.\u001b[39m\u001b[38;5;124m\"\u001b[39m\n\u001b[0;32m   1142\u001b[0m     )\n",
      "\u001b[1;31mValueError\u001b[0m: Unable to restore custom object of type _tf_keras_metric. Please make sure that any custom layers are included in the `custom_objects` arg when calling `load_model()` and make sure that all layers implement `get_config` and `from_config`."
     ]
    }
   ],
   "source": [
    "with open('model.pkl','rb') as f:\n",
    "    mmm=pickle.load(f)"
   ]
  }
 ],
 "metadata": {
  "kernelspec": {
   "display_name": "Python 3 (ipykernel)",
   "language": "python",
   "name": "python3"
  },
  "language_info": {
   "codemirror_mode": {
    "name": "ipython",
    "version": 3
   },
   "file_extension": ".py",
   "mimetype": "text/x-python",
   "name": "python",
   "nbconvert_exporter": "python",
   "pygments_lexer": "ipython3",
   "version": "3.9.17"
  }
 },
 "nbformat": 4,
 "nbformat_minor": 1
}
